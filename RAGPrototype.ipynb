{
 "cells": [
  {
   "cell_type": "code",
   "execution_count": 1,
   "id": "ba639291",
   "metadata": {},
   "outputs": [],
   "source": [
    "import os\n",
    "from openai import OpenAI\n",
    "from langchain.document_loaders import PyPDFLoader\n",
    "from langchain.text_splitter import RecursiveCharacterTextSplitter\n",
    "from langchain.embeddings import OpenAIEmbeddings\n",
    "from langchain.vectorstores import Chroma"
   ]
  },
  {
   "cell_type": "code",
   "execution_count": 2,
   "id": "2c8a1064",
   "metadata": {},
   "outputs": [
    {
     "name": "stdout",
     "output_type": "stream",
     "text": [
      "Cargando: C:\\Users\\crebr\\Rag Manuals\\eng.pdf\n",
      "Cargando: C:\\Users\\crebr\\Rag Manuals\\MFL67105007_english.pdf\n"
     ]
    },
    {
     "name": "stderr",
     "output_type": "stream",
     "text": [
      "C:\\Users\\crebr\\AppData\\Roaming\\Python\\Python311\\site-packages\\langchain_core\\_api\\deprecation.py:117: LangChainDeprecationWarning: The class `langchain_community.embeddings.openai.OpenAIEmbeddings` was deprecated in langchain-community 0.1.0 and will be removed in 0.2.0. An updated version of the class exists in the langchain-openai package and should be used instead. To use it run `pip install -U langchain-openai` and import as `from langchain_openai import OpenAIEmbeddings`.\n",
      "  warn_deprecated(\n"
     ]
    }
   ],
   "source": [
    "directorio = \"C:\\\\Users\\\\crebr\\\\Rag Manuals\\\\\"\n",
    "\n",
    "\n",
    "todos_los_documentos = []\n",
    "\n",
    "for archivo in os.listdir(directorio):\n",
    "    if archivo.endswith(\".pdf\"):\n",
    "        ruta_pdf = os.path.join(directorio, archivo)\n",
    "        print(f\"Cargando: {ruta_pdf}\")\n",
    "        loader = PyPDFLoader(ruta_pdf)\n",
    "        documentos = loader.load()\n",
    "        todos_los_documentos.extend(documentos)\n",
    "\n",
    "splitter = RecursiveCharacterTextSplitter(chunk_size=300, chunk_overlap=50)\n",
    "fragmentos = splitter.split_documents(todos_los_documentos)\n",
    "\n",
    "embeddings = OpenAIEmbeddings(api_key=\"APIKEY\") \n",
    "vectorstore = Chroma.from_documents(fragmentos, embeddings, persist_directory=\"./db\")\n",
    "\n",
    "vectorstore.persist()"
   ]
  },
  {
   "cell_type": "code",
   "execution_count": 8,
   "id": "3dbae018",
   "metadata": {},
   "outputs": [],
   "source": [
    "# Recuperamos la base vectorial\n",
    "vectorstore = Chroma(persist_directory=\"./db\", embedding_function=embeddings)"
   ]
  },
  {
   "cell_type": "code",
   "execution_count": 9,
   "id": "52b93bca",
   "metadata": {},
   "outputs": [],
   "source": [
    "# Pregunta del usuario\n",
    "pregunta = \"¿What kind of cables I have  in Model BE 320 SD?\"\n",
    "\n",
    "# Recuperar los 3 fragmentos más parecidos\n",
    "docs_relevantes = vectorstore.similarity_search(pregunta, k=3)\n",
    "contexto = \"\\n\\n\".join([doc.page_content for doc in docs_relevantes])"
   ]
  },
  {
   "cell_type": "code",
   "execution_count": 10,
   "id": "d331af72",
   "metadata": {},
   "outputs": [
    {
     "name": "stdout",
     "output_type": "stream",
     "text": [
      "The cables included in the Model BE 320 SD are a power cable and an RGB cable. An RS232C cable can also be used, but it is optional and not included.\n"
     ]
    }
   ],
   "source": [
    "client = OpenAI(\n",
    "    # defaults to os.environ.get(\"OPENAI_API_KEY\")\n",
    "    api_key=\"APIKEY\",\n",
    ")\n",
    "prompt = f\"\"\"\n",
    "Usa el siguiente contexto para responder la pregunta. Si no puedes responder con lo que ves aquí, di que no tienes suficiente información.\n",
    "\n",
    "Contexto:\n",
    "{contexto}\n",
    "\n",
    "Pregunta:\n",
    "{pregunta}\n",
    "\"\"\"\n",
    "\n",
    "# Llamar a ChatGPT\n",
    "respuesta = client.chat.completions.create(\n",
    "    model=\"gpt-4\",\n",
    "    messages=[{\"role\": \"user\", \"content\": prompt}],\n",
    "    temperature=0.2\n",
    ")\n",
    "\n",
    "print(respuesta.choices[0].message.content.strip())"
   ]
  },
  {
   "cell_type": "code",
   "execution_count": null,
   "id": "68354cde",
   "metadata": {},
   "outputs": [],
   "source": []
  }
 ],
 "metadata": {
  "kernelspec": {
   "display_name": "Python 3 (ipykernel)",
   "language": "python",
   "name": "python3"
  },
  "language_info": {
   "codemirror_mode": {
    "name": "ipython",
    "version": 3
   },
   "file_extension": ".py",
   "mimetype": "text/x-python",
   "name": "python",
   "nbconvert_exporter": "python",
   "pygments_lexer": "ipython3",
   "version": "3.11.5"
  }
 },
 "nbformat": 4,
 "nbformat_minor": 5
}
